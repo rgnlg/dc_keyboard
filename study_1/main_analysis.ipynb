{
 "cells": [
  {
   "cell_type": "code",
   "execution_count": 1,
   "id": "initial_id",
   "metadata": {
    "collapsed": true,
    "ExecuteTime": {
     "end_time": "2023-09-18T11:56:41.001037Z",
     "start_time": "2023-09-18T11:56:40.998915Z"
    }
   },
   "outputs": [],
   "source": [
    "import numpy as np\n",
    "import pandas as pd\n",
    "import json"
   ]
  },
  {
   "cell_type": "markdown",
   "source": [
    "### json"
   ],
   "metadata": {
    "collapsed": false
   },
   "id": "3023f5407d0e9e1d"
  },
  {
   "cell_type": "code",
   "execution_count": 2,
   "outputs": [],
   "source": [
    "file_path = \"/data/data_full.json\"\n",
    "\n",
    "with open(file_path, 'r') as json_file:\n",
    "    data = json.load(json_file)"
   ],
   "metadata": {
    "collapsed": false,
    "ExecuteTime": {
     "end_time": "2023-09-18T11:56:42.440673Z",
     "start_time": "2023-09-18T11:56:42.136339Z"
    }
   },
   "id": "31c4491a23c30aed"
  },
  {
   "cell_type": "code",
   "execution_count": 3,
   "outputs": [],
   "source": [
    "# unpacking json\n",
    "records = []\n",
    "for identifier, value in data.items():\n",
    "    trials = value[\"log\"][\"trials\"]\n",
    "    for trial in trials:\n",
    "        record = {\n",
    "            \"identifier\": identifier,\n",
    "            \"date\": value[\"date\"], \n",
    "            \"condition\": value[\"log\"][\"condition\"],\n",
    "            \"trial\": trial[\"trial\"],\n",
    "            \"end_time\": trial[\"end_time\"],\n",
    "            \"start_time\": trial[\"start_time\"],\n",
    "            \"target\": trial[\"target\"],\n",
    "            \"entered\": trial[\"entered\"],\n",
    "            \"part\": trial[\"part\"],\n",
    "            \"block\": trial[\"block\"],\n",
    "        }\n",
    "        records.append(record)\n",
    "\n",
    "# df from the list of dictionaries\n",
    "df = pd.DataFrame(records)"
   ],
   "metadata": {
    "collapsed": false,
    "ExecuteTime": {
     "end_time": "2023-09-18T10:43:47.055282Z",
     "start_time": "2023-09-18T10:43:47.004701Z"
    }
   },
   "id": "7fe55d73f6be0927"
  },
  {
   "cell_type": "code",
   "execution_count": 4,
   "outputs": [],
   "source": [
    "# filtering rows from the pilot\n",
    "df.groupby('identifier')['date'].agg(list)\n",
    "df['date'] = pd.to_datetime(df['date'])\n",
    "df = df.loc[df['date'] >= '2023-08-10']"
   ],
   "metadata": {
    "collapsed": false,
    "ExecuteTime": {
     "end_time": "2023-09-18T10:44:11.917649Z",
     "start_time": "2023-09-18T10:44:11.888961Z"
    }
   },
   "id": "e68e90a4178b9bb0"
  },
  {
   "cell_type": "code",
   "execution_count": 5,
   "outputs": [],
   "source": [
    "# filtering out empty trial (backend issue)\n",
    "df = df.loc[df['trial'] != 32]"
   ],
   "metadata": {
    "collapsed": false,
    "ExecuteTime": {
     "end_time": "2023-09-18T10:44:17.541155Z",
     "start_time": "2023-09-18T10:44:17.522742Z"
    }
   },
   "id": "9393eb933b59b377"
  },
  {
   "cell_type": "markdown",
   "source": [
    "\n",
    "### metrics"
   ],
   "metadata": {
    "collapsed": false
   },
   "id": "a7953b0b7fc5f7cf"
  },
  {
   "cell_type": "code",
   "execution_count": 6,
   "outputs": [],
   "source": [
    "# calculate wpm per trial\n",
    "# from pypl: The WPM is calculated by dividing characters per second by five and then multiplying that with 60.\n",
    "\n",
    "def calculate_wpm(row):\n",
    "    characters_typed = len(row['entered']) # num of characters typed\n",
    "    time_taken_sec = row['end_time'] - row['start_time'] # time taken\n",
    "    wpm = ((characters_typed / time_taken_sec) / 5) * 60 # wpm \n",
    "    return wpm\n",
    "\n",
    "df['wpm'] = df.apply(calculate_wpm, axis = 1)"
   ],
   "metadata": {
    "collapsed": false,
    "ExecuteTime": {
     "end_time": "2023-09-18T10:44:22.081181Z",
     "start_time": "2023-09-18T10:44:21.955503Z"
    }
   },
   "id": "2a07fbf569c2e14b"
  },
  {
   "cell_type": "code",
   "execution_count": 7,
   "outputs": [],
   "source": [
    "# character error rate (from jiwer)\n",
    "\n",
    "import jiwer\n",
    "\n",
    "def calculate_cer(row):\n",
    "    cer = jiwer.cer(row['target'], row['entered'])\n",
    "    return cer\n",
    "\n",
    "df['cer'] = df.apply(calculate_cer, axis = 1)"
   ],
   "metadata": {
    "collapsed": false,
    "ExecuteTime": {
     "end_time": "2023-09-18T10:44:28.653244Z",
     "start_time": "2023-09-18T10:44:27.428967Z"
    }
   },
   "id": "add55dc34b720973"
  },
  {
   "cell_type": "code",
   "execution_count": 8,
   "outputs": [
    {
     "data": {
      "text/plain": "120"
     },
     "execution_count": 8,
     "metadata": {},
     "output_type": "execute_result"
    }
   ],
   "source": [
    "# low-quality data filtering\n",
    "\n",
    "df = df[df['identifier'] != \"5689069036109824\"]"
   ],
   "metadata": {
    "collapsed": false,
    "ExecuteTime": {
     "end_time": "2023-09-18T10:44:39.667546Z",
     "start_time": "2023-09-18T10:44:39.654255Z"
    }
   },
   "id": "bd8019c015145f2f"
  },
  {
   "cell_type": "code",
   "execution_count": 13,
   "outputs": [],
   "source": [
    "# filtering outliers with a mean 'cer' higher than 0.05 (as preregistered)\n",
    " \n",
    "mean_cer_by_identifier = df.groupby('identifier')['cer'].mean()\n",
    "identifiers_to_filter = mean_cer_by_identifier[mean_cer_by_identifier > 0.05].index\n",
    "df = df[~df['identifier'].isin(identifiers_to_filter)]\n",
    "df.reset_index(drop=True, inplace=True)"
   ],
   "metadata": {
    "collapsed": false,
    "ExecuteTime": {
     "end_time": "2023-09-18T10:46:15.127091Z",
     "start_time": "2023-09-18T10:46:15.104361Z"
    }
   },
   "id": "7d196a8dd2b3c99c"
  },
  {
   "cell_type": "code",
   "execution_count": 14,
   "outputs": [
    {
     "data": {
      "text/plain": "115"
     },
     "execution_count": 14,
     "metadata": {},
     "output_type": "execute_result"
    }
   ],
   "source": [
    "len(df['identifier'].value_counts())"
   ],
   "metadata": {
    "collapsed": false,
    "ExecuteTime": {
     "end_time": "2023-09-18T10:46:17.445195Z",
     "start_time": "2023-09-18T10:46:17.435136Z"
    }
   },
   "id": "2f2357f2f504adf8"
  },
  {
   "cell_type": "markdown",
   "source": [
    "### conditions"
   ],
   "metadata": {
    "collapsed": false
   },
   "id": "22dba6b60168ff74"
  },
  {
   "cell_type": "code",
   "execution_count": 15,
   "outputs": [],
   "source": [
    "for index, row in df.iterrows():\n",
    "    identifier = row['identifier']\n",
    "    trial_num = row['trial']\n",
    "    value = data.get(str(identifier), {})\n",
    "\n",
    "    if value:\n",
    "        trials = value[\"log\"][\"trials\"]\n",
    "\n",
    "        if trial_num < len(trials):\n",
    "            trial = trials[trial_num]\n",
    "            condition = value[\"log\"][\"condition\"]\n",
    "            part = trial[\"part\"]\n",
    "            keyboard = value[\"log\"][\"ux\"][part][\"keyboard\"]\n",
    "\n",
    "            # Assign the extracted \"keyboard\" value to the DataFrame\n",
    "            df.at[index, 'keyboard'] = keyboard"
   ],
   "metadata": {
    "collapsed": false,
    "ExecuteTime": {
     "end_time": "2023-09-18T10:47:15.083363Z",
     "start_time": "2023-09-18T10:47:14.774811Z"
    }
   },
   "id": "ceffdf9392a082d1"
  },
  {
   "cell_type": "code",
   "execution_count": 16,
   "outputs": [
    {
     "name": "stdout",
     "output_type": "stream",
     "text": [
      "count    7360.000000\n",
      "mean       11.016073\n",
      "std         3.605295\n",
      "min         0.364912\n",
      "25%         8.487805\n",
      "50%        10.736842\n",
      "75%        13.333333\n",
      "max        26.666667\n",
      "Name: wpm, dtype: float64\n"
     ]
    }
   ],
   "source": [
    "print(df['wpm'].describe())"
   ],
   "metadata": {
    "collapsed": false,
    "ExecuteTime": {
     "end_time": "2023-09-18T10:47:16.025426Z",
     "start_time": "2023-09-18T10:47:16.019533Z"
    }
   },
   "id": "d48923507e450272"
  },
  {
   "cell_type": "code",
   "execution_count": 17,
   "outputs": [
    {
     "name": "stdout",
     "output_type": "stream",
     "text": [
      "count    7360.000000\n",
      "mean        0.007698\n",
      "std         0.027899\n",
      "min         0.000000\n",
      "25%         0.000000\n",
      "50%         0.000000\n",
      "75%         0.000000\n",
      "max         0.454545\n",
      "Name: cer, dtype: float64\n"
     ]
    }
   ],
   "source": [
    "print(df['cer'].describe())"
   ],
   "metadata": {
    "collapsed": false,
    "ExecuteTime": {
     "end_time": "2023-09-18T10:47:17.338132Z",
     "start_time": "2023-09-18T10:47:17.330404Z"
    }
   },
   "id": "396575fd21012a47"
  },
  {
   "cell_type": "code",
   "execution_count": 18,
   "outputs": [
    {
     "name": "stdout",
     "output_type": "stream",
     "text": [
      "cognitive wpm MEAN: 11.172397429921801  SD: 3.633132767663625 \n",
      "baseline wpm MEAN: 10.859748421880036  SD: 3.570895577104584 \n",
      "cognitive cer MEAN: 0.006948181819325593  SD: 0.02638643590498348 \n",
      "baseline cer MEAN: 0.00844687695879667  SD: 0.02931789646092718\n"
     ]
    }
   ],
   "source": [
    "print('cognitive wpm MEAN:', df[df[\"keyboard\"] == \"cognitive\"][\"wpm\"].mean(), ' SD:', df[df[\"keyboard\"] == \"cognitive\"][\"wpm\"].std(),\n",
    "      '\\nbaseline wpm MEAN:', df[df[\"keyboard\"] == \"baseline\"][\"wpm\"].mean(), ' SD:', df[df[\"keyboard\"] == \"baseline\"][\"wpm\"].std(),\n",
    "      '\\ncognitive cer MEAN:', df[df[\"keyboard\"] == \"cognitive\"][\"cer\"].mean(), ' SD:', df[df[\"keyboard\"] == \"cognitive\"][\"cer\"].std(),\n",
    "      '\\nbaseline cer MEAN:', df[df[\"keyboard\"] == \"baseline\"][\"cer\"].mean(), ' SD:', df[df[\"keyboard\"] == \"baseline\"][\"cer\"].std())"
   ],
   "metadata": {
    "collapsed": false,
    "ExecuteTime": {
     "end_time": "2023-09-18T10:47:19.182539Z",
     "start_time": "2023-09-18T10:47:19.154030Z"
    }
   },
   "id": "dd75302a674b689f"
  },
  {
   "cell_type": "markdown",
   "source": [
    "### tests"
   ],
   "metadata": {
    "collapsed": false
   },
   "id": "673c680597edb158"
  },
  {
   "cell_type": "code",
   "execution_count": 19,
   "outputs": [
    {
     "data": {
      "text/plain": "<Figure size 640x480 with 1 Axes>",
      "image/png": "[encoded data removed]"
     },
     "metadata": {},
     "output_type": "display_data"
    }
   ],
   "source": [
    "import seaborn as sns\n",
    "import matplotlib.pyplot as plt\n",
    "\n",
    "sns.histplot(data = df, x = 'wpm', kde = True)\n",
    "plt.title('distribution of wpm')\n",
    "plt.xlabel('wpm')\n",
    "plt.ylabel('frequency')\n",
    "plt.show()"
   ],
   "metadata": {
    "collapsed": false,
    "ExecuteTime": {
     "end_time": "2023-09-18T10:48:25.521958Z",
     "start_time": "2023-09-18T10:48:25.288832Z"
    }
   },
   "id": "bbd629aec260febf"
  },
  {
   "cell_type": "code",
   "execution_count": 20,
   "outputs": [
    {
     "data": {
      "text/plain": "<Figure size 640x480 with 1 Axes>",
      "image/png": "[encoded data removed]"
     },
     "metadata": {},
     "output_type": "display_data"
    }
   ],
   "source": [
    "sns.histplot(data = df, x = 'cer', kde = True)\n",
    "plt.title('distribution of cer')\n",
    "plt.xlabel('cer')\n",
    "plt.ylabel('frequency')\n",
    "plt.show()"
   ],
   "metadata": {
    "collapsed": false,
    "ExecuteTime": {
     "end_time": "2023-09-18T10:48:26.702039Z",
     "start_time": "2023-09-18T10:48:26.552794Z"
    }
   },
   "id": "2bde38db2e6b3f27"
  },
  {
   "cell_type": "markdown",
   "source": [
    "##### wpm"
   ],
   "metadata": {
    "collapsed": false
   },
   "id": "e029b4a97068ec63"
  },
  {
   "cell_type": "code",
   "execution_count": 21,
   "outputs": [],
   "source": [
    "# block assignment\n",
    "\n",
    "df['block'] = np.select(\n",
    "    [\n",
    "        (df['trial'] >= 0) & (df['trial'] <= 7) | (df['trial'] >= 33) & (df['trial'] <= 40),\n",
    "        (df['trial'] >= 8) & (df['trial'] <= 15) | (df['trial'] >= 41) & (df['trial'] <= 48),\n",
    "        (df['trial'] >= 16) & (df['trial'] <= 23) | (df['trial'] >= 49) & (df['trial'] <= 56),\n",
    "        (df['trial'] >= 24) & (df['trial'] <= 31) | (df['trial'] >= 57) & (df['trial'] <= 64)\n",
    "    ],\n",
    "    [1, 2, 3, 4],\n",
    "    default = None\n",
    ")"
   ],
   "metadata": {
    "collapsed": false,
    "ExecuteTime": {
     "end_time": "2023-09-18T10:48:45.936132Z",
     "start_time": "2023-09-18T10:48:45.918339Z"
    }
   },
   "id": "a05ce37981d254f5"
  },
  {
   "cell_type": "code",
   "execution_count": 24,
   "outputs": [
    {
     "name": "stdout",
     "output_type": "stream",
     "text": [
      "             Source          SS  ddof1  ddof2         MS          F  \\\n",
      "0          keyboard   22.482363      1    114  22.482363   6.902736   \n",
      "1             block  235.797464      3    342  78.599155  79.578216   \n",
      "2  keyboard * block    4.023154      3    342   1.341051   1.360362   \n",
      "\n",
      "          p-unc     p-GG-corr       ng2       eps  \n",
      "0  9.790409e-03  9.790409e-03  0.003052  1.000000  \n",
      "1  4.538799e-39  3.611222e-37  0.031111  0.947719  \n",
      "2  2.547574e-01  2.554026e-01  0.000548  0.967248  \n",
      "Partial Eta-Squared (η²): 0.08704652949663176\n",
      "Cohen's d: 0.29505653642221413\n"
     ]
    }
   ],
   "source": [
    "import pingouin as pg\n",
    "\n",
    "aov_interaction = pg.rm_anova(data = df, dv = 'wpm', within = ['keyboard', 'block'], subject = 'identifier')\n",
    "\n",
    "# Calculate the effect size (partial eta-squared) manually\n",
    "eta_squared = aov_interaction['SS'][0] / (aov_interaction['SS'][0] + aov_interaction['SS'][1])\n",
    "\n",
    "# Calculate Cohen's d\n",
    "n = len(df)  # Total number of observations\n",
    "k = len(df['keyboard'].unique())  # Number of levels in the 'keyboard' factor\n",
    "\n",
    "cohen_d = np.sqrt(eta_squared * (n - 1) / (n - k))\n",
    "\n",
    "# Print ANOVA results, partial eta-squared, and Cohen's d\n",
    "print(aov_interaction)\n",
    "print(f\"Partial Eta-Squared (η²): {eta_squared}\")\n",
    "print(f\"Cohen's d: {cohen_d}\")"
   ],
   "metadata": {
    "collapsed": false,
    "ExecuteTime": {
     "end_time": "2023-09-18T10:49:24.659459Z",
     "start_time": "2023-09-18T10:49:24.597535Z"
    }
   },
   "id": "5639f10bcaf1e953"
  },
  {
   "cell_type": "raw",
   "source": [
    "The 'keyboard' factor exhibits a statistically significant effect with an F-value of 6.902736 and a p-unc value of 0.009790409.\n",
    "The 'block' factor demonstrates a highly significant effect with a substantial F-value of 79.578216 and an extremely low p-unc value of 4.538799e-39.\n",
    "However, the interaction between 'keyboard' and 'block' does not appear to be significant, as evidenced by the higher p-unc value of 0.2547574."
   ],
   "metadata": {
    "collapsed": false
   },
   "id": "8f197a6740763bea"
  },
  {
   "cell_type": "code",
   "execution_count": 25,
   "outputs": [
    {
     "name": "stderr",
     "output_type": "stream",
     "text": [
      "/Users/olgaiarygina/opt/anaconda3/envs/PycharmProjects/lib/python3.7/site-packages/ipykernel_launcher.py:1: FutureWarning: \n",
      "\n",
      "The `ci` parameter is deprecated. Use `errorbar='sd'` for the same effect.\n",
      "\n",
      "  \"\"\"Entry point for launching an IPython kernel.\n"
     ]
    },
    {
     "data": {
      "text/plain": "<Figure size 640x480 with 1 Axes>",
      "image/png": "[encoded data removed]"
     },
     "metadata": {},
     "output_type": "display_data"
    }
   ],
   "source": [
    "sns.pointplot(data = df, x = 'block', y = 'wpm', hue = 'keyboard', ci = 'sd')\n",
    "plt.title('interaction plot of wpm for different keyboard conditions and blocks')\n",
    "plt.xlabel('block')\n",
    "plt.ylabel('wpm')\n",
    "plt.show()"
   ],
   "metadata": {
    "collapsed": false,
    "ExecuteTime": {
     "end_time": "2023-09-18T10:50:36.328345Z",
     "start_time": "2023-09-18T10:50:36.121209Z"
    }
   },
   "id": "d0ecd9b79a3af687"
  },
  {
   "cell_type": "code",
   "execution_count": 27,
   "outputs": [
    {
     "name": "stdout",
     "output_type": "stream",
     "text": [
      "Multiple Comparison of Means - Tukey HSD, FWER=0.05\n",
      "===================================================\n",
      "group1 group2 meandiff p-adj   lower  upper  reject\n",
      "---------------------------------------------------\n",
      "     1      2   0.4192 0.0021  0.1167 0.7217   True\n",
      "     1      3   0.5722    0.0  0.2697 0.8747   True\n",
      "     1      4   1.3949   -0.0  1.0924 1.6973   True\n",
      "     2      3    0.153 0.5629 -0.1494 0.4555  False\n",
      "     2      4   0.9757   -0.0  0.6732 1.2781   True\n",
      "     3      4   0.8226    0.0  0.5202 1.1251   True\n",
      "---------------------------------------------------\n"
     ]
    }
   ],
   "source": [
    "from statsmodels.stats.multicomp import MultiComparison\n",
    "\n",
    "multi_comp = MultiComparison(df['wpm'], df['block'])\n",
    "post_hoc_res = multi_comp.tukeyhsd()\n",
    "print(post_hoc_res.summary())"
   ],
   "metadata": {
    "collapsed": false,
    "ExecuteTime": {
     "end_time": "2023-09-18T10:51:02.991721Z",
     "start_time": "2023-09-18T10:51:02.330271Z"
    }
   },
   "id": "78a44295ca71d1f5"
  },
  {
   "cell_type": "markdown",
   "source": [
    "##### cer"
   ],
   "metadata": {
    "collapsed": false
   },
   "id": "e3049e9133112ccf"
  },
  {
   "cell_type": "code",
   "execution_count": 28,
   "outputs": [
    {
     "name": "stdout",
     "output_type": "stream",
     "text": [
      "             Source        SS  ddof1  ddof2        MS         F     p-unc  \\\n",
      "0          keyboard  0.000517      1    114  0.000517  2.271134  0.134570   \n",
      "1             block  0.000243      3    342  0.000081  0.529839  0.662080   \n",
      "2  keyboard * block  0.000199      3    342  0.000066  0.611632  0.607853   \n",
      "\n",
      "   p-GG-corr       ng2       eps  \n",
      "0   0.134570  0.002731  1.000000  \n",
      "1   0.638354  0.001284  0.876409  \n",
      "2   0.588808  0.001055  0.887934  \n"
     ]
    }
   ],
   "source": [
    "cer_interaction = pg.rm_anova(data = df, dv = 'cer', within = ['keyboard', 'block'], subject = 'identifier')\n",
    "print(cer_interaction)"
   ],
   "metadata": {
    "collapsed": false,
    "ExecuteTime": {
     "end_time": "2023-09-18T10:51:09.036271Z",
     "start_time": "2023-09-18T10:51:08.972379Z"
    }
   },
   "id": "77900a2bec1d860b"
  },
  {
   "cell_type": "code",
   "execution_count": 29,
   "outputs": [
    {
     "name": "stderr",
     "output_type": "stream",
     "text": [
      "/Users/olgaiarygina/opt/anaconda3/envs/PycharmProjects/lib/python3.7/site-packages/ipykernel_launcher.py:1: FutureWarning: \n",
      "\n",
      "The `ci` parameter is deprecated. Use `errorbar='sd'` for the same effect.\n",
      "\n",
      "  \"\"\"Entry point for launching an IPython kernel.\n"
     ]
    },
    {
     "data": {
      "text/plain": "<Figure size 640x480 with 1 Axes>",
      "image/png": "[encoded data removed]"
     },
     "metadata": {},
     "output_type": "display_data"
    }
   ],
   "source": [
    "sns.pointplot(data = df, x = 'block', y = 'cer', hue = 'keyboard', ci = 'sd')\n",
    "plt.title('interaction plot of cer for different keyboard conditions and blocks')\n",
    "plt.xlabel('block')\n",
    "plt.ylabel('cer')\n",
    "plt.show()"
   ],
   "metadata": {
    "collapsed": false,
    "ExecuteTime": {
     "end_time": "2023-09-18T10:51:14.296068Z",
     "start_time": "2023-09-18T10:51:14.138190Z"
    }
   },
   "id": "8dfd64a4660262e1"
  },
  {
   "cell_type": "code",
   "execution_count": 30,
   "outputs": [],
   "source": [
    "df.to_csv('df_full_filtered.csv', index = False)"
   ],
   "metadata": {
    "collapsed": false,
    "ExecuteTime": {
     "end_time": "2023-09-18T10:51:16.665397Z",
     "start_time": "2023-09-18T10:51:16.596594Z"
    }
   },
   "id": "a7710b8792e94442"
  }
 ],
 "metadata": {
  "kernelspec": {
   "display_name": "Python 3",
   "language": "python",
   "name": "python3"
  },
  "language_info": {
   "codemirror_mode": {
    "name": "ipython",
    "version": 2
   },
   "file_extension": ".py",
   "mimetype": "text/x-python",
   "name": "python",
   "nbconvert_exporter": "python",
   "pygments_lexer": "ipython2",
   "version": "2.7.6"
  }
 },
 "nbformat": 4,
 "nbformat_minor": 5
}
