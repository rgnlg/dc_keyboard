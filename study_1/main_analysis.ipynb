{
 "cells": [
  {
   "cell_type": "code",
   "execution_count": null,
   "id": "initial_id",
   "metadata": {
    "collapsed": true
   },
   "outputs": [],
   "source": [
    "import numpy as np\n",
    "import pandas as pd\n",
    "import json"
   ]
  },
  {
   "cell_type": "markdown",
   "source": [
    "### json"
   ],
   "metadata": {
    "collapsed": false
   },
   "id": "3023f5407d0e9e1d"
  },
  {
   "cell_type": "code",
   "execution_count": null,
   "outputs": [],
   "source": [
    "file_path = \"/data/data_full.json\"\n",
    "\n",
    "with open(file_path, 'r') as json_file:\n",
    "    data = json.load(json_file)"
   ],
   "metadata": {
    "collapsed": false
   },
   "id": "31c4491a23c30aed"
  },
  {
   "cell_type": "code",
   "execution_count": null,
   "outputs": [],
   "source": [
    "# unpacking json\n",
    "records = []\n",
    "for identifier, value in data.items():\n",
    "    trials = value[\"log\"][\"trials\"]\n",
    "    for trial in trials:\n",
    "        record = {\n",
    "            \"identifier\": identifier,\n",
    "            \"date\": value[\"date\"], \n",
    "            \"condition\": value[\"log\"][\"condition\"],\n",
    "            \"trial\": trial[\"trial\"],\n",
    "            \"end_time\": trial[\"end_time\"],\n",
    "            \"start_time\": trial[\"start_time\"],\n",
    "            \"target\": trial[\"target\"],\n",
    "            \"entered\": trial[\"entered\"],\n",
    "            \"part\": trial[\"part\"],\n",
    "            \"block\": trial[\"block\"],\n",
    "        }\n",
    "        records.append(record)\n",
    "\n",
    "# df from the list of dictionaries\n",
    "df = pd.DataFrame(records)"
   ],
   "metadata": {
    "collapsed": false
   },
   "id": "7fe55d73f6be0927"
  },
  {
   "cell_type": "code",
   "execution_count": null,
   "outputs": [],
   "source": [
    "# filtering rows from the pilot\n",
    "df.groupby('identifier')['date'].agg(list)\n",
    "df['date'] = pd.to_datetime(df['date'])\n",
    "df = df.loc[df['date'] >= '2023-08-10']"
   ],
   "metadata": {
    "collapsed": false
   },
   "id": "e68e90a4178b9bb0"
  },
  {
   "cell_type": "code",
   "execution_count": null,
   "outputs": [],
   "source": [
    "# filtering out empty trial (backend issue)\n",
    "df = df.loc[df['trial'] != 32]"
   ],
   "metadata": {
    "collapsed": false
   },
   "id": "9393eb933b59b377"
  },
  {
   "cell_type": "markdown",
   "source": [
    "\n",
    "### metrics"
   ],
   "metadata": {
    "collapsed": false
   },
   "id": "a7953b0b7fc5f7cf"
  },
  {
   "cell_type": "code",
   "execution_count": null,
   "outputs": [],
   "source": [
    "# calculate wpm per trial\n",
    "# from pypl: The WPM is calculated by dividing characters per second by five and then multiplying that with 60.\n",
    "\n",
    "def calculate_wpm(row):\n",
    "    characters_typed = len(row['entered']) # num of characters typed\n",
    "    time_taken_sec = row['end_time'] - row['start_time'] # time taken\n",
    "    wpm = ((characters_typed / time_taken_sec) / 5) * 60 # wpm \n",
    "    return wpm\n",
    "\n",
    "df['wpm'] = df.apply(calculate_wpm, axis = 1)"
   ],
   "metadata": {
    "collapsed": false
   },
   "id": "2a07fbf569c2e14b"
  },
  {
   "cell_type": "code",
   "execution_count": null,
   "outputs": [],
   "source": [
    "# character error rate (from jiwer)\n",
    "\n",
    "import jiwer\n",
    "\n",
    "def calculate_cer(row):\n",
    "    cer = jiwer.cer(row['target'], row['entered'])\n",
    "    return cer\n",
    "\n",
    "df['cer'] = df.apply(calculate_cer, axis = 1)"
   ],
   "metadata": {
    "collapsed": false
   },
   "id": "add55dc34b720973"
  },
  {
   "cell_type": "code",
   "execution_count": null,
   "outputs": [],
   "source": [
    "# low-quality data filtering\n",
    "\n",
    "df = df[df['identifier'] != \"5689069036109824\"]"
   ],
   "metadata": {
    "collapsed": false
   },
   "id": "bd8019c015145f2f"
  },
  {
   "cell_type": "code",
   "execution_count": null,
   "outputs": [],
   "source": [
    "# filtering outliers with a mean 'cer' higher than 0.05 (as preregistered)\n",
    " \n",
    "mean_cer_by_identifier = df.groupby('identifier')['cer'].mean()\n",
    "identifiers_to_filter = mean_cer_by_identifier[mean_cer_by_identifier > 0.05].index\n",
    "df = df[~df['identifier'].isin(identifiers_to_filter)]\n",
    "df.reset_index(drop=True, inplace=True)"
   ],
   "metadata": {
    "collapsed": false
   },
   "id": "7d196a8dd2b3c99c"
  },
  {
   "cell_type": "code",
   "execution_count": null,
   "outputs": [],
   "source": [
    "len(df['identifier'].value_counts())"
   ],
   "metadata": {
    "collapsed": false
   },
   "id": "2f2357f2f504adf8"
  },
  {
   "cell_type": "markdown",
   "source": [
    "### conditions"
   ],
   "metadata": {
    "collapsed": false
   },
   "id": "22dba6b60168ff74"
  },
  {
   "cell_type": "code",
   "execution_count": null,
   "outputs": [],
   "source": [
    "for index, row in df.iterrows():\n",
    "    identifier = row['identifier']\n",
    "    trial_num = row['trial']\n",
    "    value = data.get(str(identifier), {})\n",
    "\n",
    "    if value:\n",
    "        trials = value[\"log\"][\"trials\"]\n",
    "\n",
    "        if trial_num < len(trials):\n",
    "            trial = trials[trial_num]\n",
    "            condition = value[\"log\"][\"condition\"]\n",
    "            part = trial[\"part\"]\n",
    "            keyboard = value[\"log\"][\"ux\"][part][\"keyboard\"]\n",
    "\n",
    "            # Assign the extracted \"keyboard\" value to the DataFrame\n",
    "            df.at[index, 'keyboard'] = keyboard"
   ],
   "metadata": {
    "collapsed": false
   },
   "id": "ceffdf9392a082d1"
  },
  {
   "cell_type": "code",
   "execution_count": null,
   "outputs": [],
   "source": [
    "print(df['wpm'].describe())"
   ],
   "metadata": {
    "collapsed": false
   },
   "id": "d48923507e450272"
  },
  {
   "cell_type": "code",
   "execution_count": null,
   "outputs": [],
   "source": [
    "print(df['cer'].describe())"
   ],
   "metadata": {
    "collapsed": false
   },
   "id": "396575fd21012a47"
  },
  {
   "cell_type": "code",
   "execution_count": null,
   "outputs": [],
   "source": [
    "print('cognitive wpm MEAN:', df[df[\"keyboard\"] == \"cognitive\"][\"wpm\"].mean(), ' SD:', df[df[\"keyboard\"] == \"cognitive\"][\"wpm\"].std(),\n",
    "      '\\nbaseline wpm MEAN:', df[df[\"keyboard\"] == \"baseline\"][\"wpm\"].mean(), ' SD:', df[df[\"keyboard\"] == \"baseline\"][\"wpm\"].std(),\n",
    "      '\\ncognitive cer MEAN:', df[df[\"keyboard\"] == \"cognitive\"][\"cer\"].mean(), ' SD:', df[df[\"keyboard\"] == \"cognitive\"][\"cer\"].std(),\n",
    "      '\\nbaseline cer MEAN:', df[df[\"keyboard\"] == \"baseline\"][\"cer\"].mean(), ' SD:', df[df[\"keyboard\"] == \"baseline\"][\"cer\"].std())"
   ],
   "metadata": {
    "collapsed": false
   },
   "id": "dd75302a674b689f"
  },
  {
   "cell_type": "markdown",
   "source": [
    "### tests"
   ],
   "metadata": {
    "collapsed": false
   },
   "id": "673c680597edb158"
  },
  {
   "cell_type": "code",
   "execution_count": null,
   "outputs": [],
   "source": [
    "import seaborn as sns\n",
    "import matplotlib.pyplot as plt\n",
    "\n",
    "sns.histplot(data = df, x = 'wpm', kde = True)\n",
    "plt.title('distribution of wpm')\n",
    "plt.xlabel('wpm')\n",
    "plt.ylabel('frequency')\n",
    "plt.show()"
   ],
   "metadata": {
    "collapsed": false
   },
   "id": "bbd629aec260febf"
  },
  {
   "cell_type": "code",
   "execution_count": null,
   "outputs": [],
   "source": [
    "sns.histplot(data = df, x = 'cer', kde = True)\n",
    "plt.title('distribution of cer')\n",
    "plt.xlabel('cer')\n",
    "plt.ylabel('frequency')\n",
    "plt.show()"
   ],
   "metadata": {
    "collapsed": false
   },
   "id": "2bde38db2e6b3f27"
  },
  {
   "cell_type": "markdown",
   "source": [
    "##### wpm"
   ],
   "metadata": {
    "collapsed": false
   },
   "id": "e029b4a97068ec63"
  },
  {
   "cell_type": "code",
   "execution_count": null,
   "outputs": [],
   "source": [
    "# block assignment\n",
    "\n",
    "df['block'] = np.select(\n",
    "    [\n",
    "        (df['trial'] >= 0) & (df['trial'] <= 7) | (df['trial'] >= 33) & (df['trial'] <= 40),\n",
    "        (df['trial'] >= 8) & (df['trial'] <= 15) | (df['trial'] >= 41) & (df['trial'] <= 48),\n",
    "        (df['trial'] >= 16) & (df['trial'] <= 23) | (df['trial'] >= 49) & (df['trial'] <= 56),\n",
    "        (df['trial'] >= 24) & (df['trial'] <= 31) | (df['trial'] >= 57) & (df['trial'] <= 64)\n",
    "    ],\n",
    "    [1, 2, 3, 4],\n",
    "    default = None\n",
    ")"
   ],
   "metadata": {
    "collapsed": false
   },
   "id": "a05ce37981d254f5"
  },
  {
   "cell_type": "code",
   "execution_count": null,
   "outputs": [],
   "source": [
    "import pingouin as pg\n",
    "\n",
    "aov_interaction = pg.rm_anova(data = df, dv = 'wpm', within = ['keyboard', 'block'], subject = 'identifier')\n",
    "\n",
    "# Calculate the effect size (partial eta-squared) manually\n",
    "eta_squared = aov_interaction['SS'][0] / (aov_interaction['SS'][0] + aov_interaction['SS'][1])\n",
    "\n",
    "# Calculate Cohen's d\n",
    "n = len(df)  # Total number of observations\n",
    "k = len(df['keyboard'].unique())  # Number of levels in the 'keyboard' factor\n",
    "\n",
    "cohen_d = np.sqrt(eta_squared * (n - 1) / (n - k))\n",
    "\n",
    "# Print ANOVA results, partial eta-squared, and Cohen's d\n",
    "print(aov_interaction)\n",
    "print(f\"Partial Eta-Squared (η²): {eta_squared}\")\n",
    "print(f\"Cohen's d: {cohen_d}\")"
   ],
   "metadata": {
    "collapsed": false
   },
   "id": "5639f10bcaf1e953"
  },
  {
   "cell_type": "raw",
   "source": [
    "The 'keyboard' factor exhibits a statistically significant effect with an F-value of 6.902736 and a p-unc value of 0.009790409.\n",
    "The 'block' factor demonstrates a highly significant effect with a substantial F-value of 79.578216 and an extremely low p-unc value of 4.538799e-39.\n",
    "However, the interaction between 'keyboard' and 'block' does not appear to be significant, as evidenced by the higher p-unc value of 0.2547574."
   ],
   "metadata": {
    "collapsed": false
   },
   "id": "8f197a6740763bea"
  },
  {
   "cell_type": "code",
   "execution_count": null,
   "outputs": [],
   "source": [
    "sns.pointplot(data = df, x = 'block', y = 'wpm', hue = 'keyboard', ci = 'sd')\n",
    "plt.title('interaction plot of wpm for different keyboard conditions and blocks')\n",
    "plt.xlabel('block')\n",
    "plt.ylabel('wpm')\n",
    "plt.show()"
   ],
   "metadata": {
    "collapsed": false
   },
   "id": "d0ecd9b79a3af687"
  },
  {
   "cell_type": "code",
   "execution_count": null,
   "outputs": [],
   "source": [
    "from statsmodels.stats.multicomp import MultiComparison\n",
    "\n",
    "multi_comp = MultiComparison(df['wpm'], df['block'])\n",
    "post_hoc_res = multi_comp.tukeyhsd()\n",
    "print(post_hoc_res.summary())"
   ],
   "metadata": {
    "collapsed": false
   },
   "id": "78a44295ca71d1f5"
  },
  {
   "cell_type": "markdown",
   "source": [
    "##### cer"
   ],
   "metadata": {
    "collapsed": false
   },
   "id": "e3049e9133112ccf"
  },
  {
   "cell_type": "code",
   "execution_count": null,
   "outputs": [],
   "source": [
    "cer_interaction = pg.rm_anova(data = df, dv = 'cer', within = ['keyboard', 'block'], subject = 'identifier')\n",
    "print(cer_interaction)"
   ],
   "metadata": {
    "collapsed": false
   },
   "id": "77900a2bec1d860b"
  },
  {
   "cell_type": "code",
   "execution_count": null,
   "outputs": [],
   "source": [
    "sns.pointplot(data = df, x = 'block', y = 'cer', hue = 'keyboard', ci = 'sd')\n",
    "plt.title('interaction plot of cer for different keyboard conditions and blocks')\n",
    "plt.xlabel('block')\n",
    "plt.ylabel('cer')\n",
    "plt.show()"
   ],
   "metadata": {
    "collapsed": false
   },
   "id": "8dfd64a4660262e1"
  },
  {
   "cell_type": "code",
   "execution_count": null,
   "outputs": [],
   "source": [
    "df.to_csv('df_full_filtered.csv', index = False)"
   ],
   "metadata": {
    "collapsed": false
   },
   "id": "a7710b8792e94442"
  }
 ],
 "metadata": {
  "kernelspec": {
   "display_name": "Python 3",
   "language": "python",
   "name": "python3"
  },
  "language_info": {
   "codemirror_mode": {
    "name": "ipython",
    "version": 2
   },
   "file_extension": ".py",
   "mimetype": "text/x-python",
   "name": "python",
   "nbconvert_exporter": "python",
   "pygments_lexer": "ipython2",
   "version": "2.7.6"
  }
 },
 "nbformat": 4,
 "nbformat_minor": 5
}
