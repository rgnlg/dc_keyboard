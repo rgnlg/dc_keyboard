{
 "cells": [
  {
   "cell_type": "code",
   "execution_count": 1,
   "id": "initial_id",
   "metadata": {
    "collapsed": true,
    "ExecuteTime": {
     "end_time": "2023-08-16T09:23:04.834150Z",
     "start_time": "2023-08-16T09:23:04.831679Z"
    }
   },
   "outputs": [],
   "source": [
    "import numpy as np\n",
    "import pandas as pd\n",
    "import json"
   ]
  },
  {
   "cell_type": "raw",
   "source": [
    "### json"
   ],
   "metadata": {
    "collapsed": false
   },
   "id": "14e87791a279d9f4"
  },
  {
   "cell_type": "code",
   "execution_count": 4,
   "outputs": [],
   "source": [
    "file_path = \"/Users/olgaiarygina/Documents/GitHub/dc_keyboard/dc_keyboard/study_1/data_full.json\"\n",
    "\n",
    "with open(file_path, 'r') as json_file:\n",
    "    json_data = json.load(json_file)"
   ],
   "metadata": {
    "collapsed": false,
    "ExecuteTime": {
     "end_time": "2023-08-16T09:27:47.204327Z",
     "start_time": "2023-08-16T09:27:46.981512Z"
    }
   },
   "id": "b1ea2f143e194103"
  },
  {
   "cell_type": "code",
   "execution_count": 5,
   "outputs": [],
   "source": [
    "extracted_data = []\n",
    "\n",
    "for identifier, data in json_data.items():\n",
    "    entry = {\n",
    "        \"identifier\": identifier,\n",
    "        \"date\": data[\"date\"],\n",
    "        \"hand\": data[\"log\"][\"hand\"],\n",
    "        \"age\": data[\"log\"][\"age\"],\n",
    "        \"gender\": data[\"log\"][\"gender\"]\n",
    "    }\n",
    "    extracted_data.append(entry)"
   ],
   "metadata": {
    "collapsed": false,
    "ExecuteTime": {
     "end_time": "2023-08-16T09:27:49.244311Z",
     "start_time": "2023-08-16T09:27:49.237756Z"
    }
   },
   "id": "14df6b0372acd339"
  },
  {
   "cell_type": "code",
   "execution_count": 6,
   "outputs": [],
   "source": [
    "df = pd.DataFrame(extracted_data)"
   ],
   "metadata": {
    "collapsed": false,
    "ExecuteTime": {
     "end_time": "2023-08-16T09:28:12.236582Z",
     "start_time": "2023-08-16T09:28:12.226521Z"
    }
   },
   "id": "2ae087f491137b8e"
  },
  {
   "cell_type": "code",
   "execution_count": 8,
   "outputs": [],
   "source": [
    "# app-test filtering\n",
    "df.groupby('identifier')['date'].agg(list)\n",
    "df['date'] = pd.to_datetime(df['date'])\n",
    "df = df.loc[df['date'] >= '2023-08-10']"
   ],
   "metadata": {
    "collapsed": false,
    "ExecuteTime": {
     "end_time": "2023-08-16T09:28:35.886529Z",
     "start_time": "2023-08-16T09:28:35.883699Z"
    }
   },
   "id": "410b3b5478c6a51"
  },
  {
   "cell_type": "code",
   "execution_count": 9,
   "outputs": [
    {
     "data": {
      "text/plain": "120"
     },
     "execution_count": 9,
     "metadata": {},
     "output_type": "execute_result"
    }
   ],
   "source": [
    "df = df[df['identifier'] != \"5689069036109824\"]\n",
    "len(df['identifier'].value_counts())"
   ],
   "metadata": {
    "collapsed": false,
    "ExecuteTime": {
     "end_time": "2023-08-16T09:28:47.680193Z",
     "start_time": "2023-08-16T09:28:47.671399Z"
    }
   },
   "id": "a6cfd6c4db72b2f0"
  },
  {
   "cell_type": "code",
   "execution_count": 11,
   "outputs": [
    {
     "data": {
      "text/plain": "male      60\nfemale    59\nother      1\nName: gender, dtype: int64"
     },
     "execution_count": 11,
     "metadata": {},
     "output_type": "execute_result"
    }
   ],
   "source": [
    "df['gender'].value_counts()"
   ],
   "metadata": {
    "collapsed": false,
    "ExecuteTime": {
     "end_time": "2023-08-16T09:30:56.303109Z",
     "start_time": "2023-08-16T09:30:56.297122Z"
    }
   },
   "id": "9802943ca1e3c82d"
  },
  {
   "cell_type": "code",
   "execution_count": 13,
   "outputs": [
    {
     "data": {
      "text/plain": "count    120.000000\nmean      32.283333\nstd        9.372034\nmin       18.000000\n25%       24.000000\n50%       31.000000\n75%       38.000000\nmax       55.000000\nName: age, dtype: float64"
     },
     "execution_count": 13,
     "metadata": {},
     "output_type": "execute_result"
    }
   ],
   "source": [
    "df['age'].describe()"
   ],
   "metadata": {
    "collapsed": false,
    "ExecuteTime": {
     "end_time": "2023-08-16T09:31:56.595221Z",
     "start_time": "2023-08-16T09:31:56.584972Z"
    }
   },
   "id": "e33e4c55d3887bb4"
  },
  {
   "cell_type": "code",
   "execution_count": 14,
   "outputs": [
    {
     "data": {
      "text/plain": "right    106\nleft      13\nboth       1\nName: hand, dtype: int64"
     },
     "execution_count": 14,
     "metadata": {},
     "output_type": "execute_result"
    }
   ],
   "source": [
    "df['hand'].value_counts()"
   ],
   "metadata": {
    "collapsed": false,
    "ExecuteTime": {
     "end_time": "2023-08-16T09:32:34.612922Z",
     "start_time": "2023-08-16T09:32:34.599347Z"
    }
   },
   "id": "ca6675275962b40c"
  },
  {
   "cell_type": "code",
   "execution_count": null,
   "outputs": [],
   "source": [],
   "metadata": {
    "collapsed": false
   },
   "id": "720189af249468c1"
  }
 ],
 "metadata": {
  "kernelspec": {
   "display_name": "Python 3",
   "language": "python",
   "name": "python3"
  },
  "language_info": {
   "codemirror_mode": {
    "name": "ipython",
    "version": 2
   },
   "file_extension": ".py",
   "mimetype": "text/x-python",
   "name": "python",
   "nbconvert_exporter": "python",
   "pygments_lexer": "ipython2",
   "version": "2.7.6"
  }
 },
 "nbformat": 4,
 "nbformat_minor": 5
}
